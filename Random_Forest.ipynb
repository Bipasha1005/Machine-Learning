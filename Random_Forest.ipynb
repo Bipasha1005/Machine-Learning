{
  "nbformat": 4,
  "nbformat_minor": 0,
  "metadata": {
    "colab": {
      "provenance": []
    },
    "kernelspec": {
      "name": "python3",
      "display_name": "Python 3"
    },
    "language_info": {
      "name": "python"
    }
  },
  "cells": [
    {
      "cell_type": "code",
      "source": [
        "import pandas as pd\n",
        "from sklearn.model_selection import train_test_split\n",
        "from sklearn.preprocessing import StandardScaler\n",
        "from sklearn.ensemble import RandomForestClassifier\n",
        "from sklearn.metrics import accuracy_score, classification_report"
      ],
      "metadata": {
        "id": "NZhazHY4dPKJ"
      },
      "execution_count": 3,
      "outputs": []
    },
    {
      "cell_type": "code",
      "source": [
        "# 1. Load and Prepare Data\n",
        "df = pd.read_csv(\"heart.csv\")\n",
        "\n",
        "# Features and Target\n",
        "X = df.drop(\"target\", axis=1)\n",
        "y = df[\"target\"]\n",
        "\n",
        "print(\"Heart Dataset (first 5 rows of features):\")\n",
        "print(X.head())\n",
        "print(\"\\nTarget Variable (first 5 rows):\")\n",
        "print(y.head())"
      ],
      "metadata": {
        "colab": {
          "base_uri": "https://localhost:8080/"
        },
        "id": "B40B82mZdPHE",
        "outputId": "eaac21bc-6f34-4aa5-8123-fb527bed786b"
      },
      "execution_count": 4,
      "outputs": [
        {
          "output_type": "stream",
          "name": "stdout",
          "text": [
            "Heart Dataset (first 5 rows of features):\n",
            "   age  sex  cp  trestbps  chol  fbs  restecg  thalach  exang  oldpeak  slope  \\\n",
            "0   52    1   0       125   212    0        1      168      0      1.0      2   \n",
            "1   53    1   0       140   203    1        0      155      1      3.1      0   \n",
            "2   70    1   0       145   174    0        1      125      1      2.6      0   \n",
            "3   61    1   0       148   203    0        1      161      0      0.0      2   \n",
            "4   62    0   0       138   294    1        1      106      0      1.9      1   \n",
            "\n",
            "   ca  thal  \n",
            "0   2     3  \n",
            "1   0     3  \n",
            "2   0     3  \n",
            "3   1     3  \n",
            "4   3     2  \n",
            "\n",
            "Target Variable (first 5 rows):\n",
            "0    0\n",
            "1    0\n",
            "2    0\n",
            "3    0\n",
            "4    0\n",
            "Name: target, dtype: int64\n"
          ]
        }
      ]
    },
    {
      "cell_type": "code",
      "source": [
        "# Scale features\n",
        "scaler = StandardScaler()\n",
        "X_scaled = scaler.fit_transform(X)\n",
        "X_scaled_df = pd.DataFrame(X_scaled, columns=X.columns)\n",
        "\n",
        "print(\"Scaled Heart Data (first 5 rows):\")\n",
        "print(X_scaled_df.head())"
      ],
      "metadata": {
        "colab": {
          "base_uri": "https://localhost:8080/"
        },
        "id": "EEaYdrOhdPEL",
        "outputId": "1f3fcb4c-adb8-4d97-eb1b-aec6b7ba9309"
      },
      "execution_count": 5,
      "outputs": [
        {
          "output_type": "stream",
          "name": "stdout",
          "text": [
            "Scaled Heart Data (first 5 rows):\n",
            "        age       sex        cp  trestbps      chol       fbs   restecg  \\\n",
            "0 -0.268437  0.661504 -0.915755 -0.377636 -0.659332 -0.418878  0.891255   \n",
            "1 -0.158157  0.661504 -0.915755  0.479107 -0.833861  2.387330 -1.004049   \n",
            "2  1.716595  0.661504 -0.915755  0.764688 -1.396233 -0.418878  0.891255   \n",
            "3  0.724079  0.661504 -0.915755  0.936037 -0.833861 -0.418878  0.891255   \n",
            "4  0.834359 -1.511706 -0.915755  0.364875  0.930822  2.387330  0.891255   \n",
            "\n",
            "    thalach     exang   oldpeak     slope        ca      thal  \n",
            "0  0.821321 -0.712287 -0.060888  0.995433  1.209221  1.089852  \n",
            "1  0.255968  1.403928  1.727137 -2.243675 -0.731971  1.089852  \n",
            "2 -1.048692  1.403928  1.301417 -2.243675 -0.731971  1.089852  \n",
            "3  0.516900 -0.712287 -0.912329  0.995433  0.238625  1.089852  \n",
            "4 -1.874977 -0.712287  0.705408 -0.624121  2.179817 -0.522122  \n"
          ]
        }
      ]
    },
    {
      "cell_type": "code",
      "source": [
        "# 2. Train-Test Split\n",
        "X_train, X_test, y_train, y_test = train_test_split(\n",
        "    X_scaled, y, test_size=0.3, random_state=42, stratify=y\n",
        ")\n",
        "\n",
        "print(f\"Training data shape: {X_train.shape}, {y_train.shape}\")\n",
        "print(f\"Testing data shape: {X_test.shape}, {y_test.shape}\")"
      ],
      "metadata": {
        "colab": {
          "base_uri": "https://localhost:8080/"
        },
        "id": "U67jlHiJdO-t",
        "outputId": "f9354bd9-19a3-4e23-93eb-1c8c58e30d2c"
      },
      "execution_count": 6,
      "outputs": [
        {
          "output_type": "stream",
          "name": "stdout",
          "text": [
            "Training data shape: (717, 13), (717,)\n",
            "Testing data shape: (308, 13), (308,)\n"
          ]
        }
      ]
    },
    {
      "cell_type": "code",
      "source": [
        "# 3. Train Random Forest Model\n",
        "rf_model = RandomForestClassifier(n_estimators=100, random_state=42, n_jobs=-1)\n",
        "rf_model.fit(X_train, y_train)\n",
        "\n",
        "print(\"Random Forest Model Trained Successfully!\")"
      ],
      "metadata": {
        "colab": {
          "base_uri": "https://localhost:8080/"
        },
        "id": "ffp_xKCpdO6u",
        "outputId": "6470cd90-0f56-4d9e-c62f-2d6825d3b706"
      },
      "execution_count": 7,
      "outputs": [
        {
          "output_type": "stream",
          "name": "stdout",
          "text": [
            "Random Forest Model Trained Successfully!\n"
          ]
        }
      ]
    },
    {
      "cell_type": "code",
      "source": [
        "# 4. Make Predictions\n",
        "y_pred = rf_model.predict(X_test)\n",
        "y_pred_proba = rf_model.predict_proba(X_test)\n",
        "\n",
        "print(\"Predictions on Test Set (first 10):\")\n",
        "predictions_df = pd.DataFrame({\n",
        "    'Actual_Label': y_test.reset_index(drop=True),\n",
        "    'Predicted_Label': y_pred\n",
        "})\n",
        "print(predictions_df.head(10))"
      ],
      "metadata": {
        "colab": {
          "base_uri": "https://localhost:8080/"
        },
        "id": "NSuMhIDvdO3_",
        "outputId": "6d6d1cff-76dc-45b8-9965-8fea8c4f6147"
      },
      "execution_count": 8,
      "outputs": [
        {
          "output_type": "stream",
          "name": "stdout",
          "text": [
            "Predictions on Test Set (first 10):\n",
            "   Actual_Label  Predicted_Label\n",
            "0             0                0\n",
            "1             0                0\n",
            "2             1                1\n",
            "3             1                1\n",
            "4             1                1\n",
            "5             1                1\n",
            "6             0                0\n",
            "7             1                1\n",
            "8             0                0\n",
            "9             1                1\n"
          ]
        }
      ]
    },
    {
      "cell_type": "code",
      "source": [
        "# 5. Evaluate the Model\n",
        "accuracy = accuracy_score(y_test, y_pred)\n",
        "report = classification_report(y_test, y_pred)\n",
        "\n",
        "print(f\"Model Accuracy: {accuracy:.2f}\")\n",
        "print(\"\\nClassification Report:\")\n",
        "print(report)\n",
        "print(\"\\n\" + \"=\"*50 + \"\\n\")\n",
        "\n",
        "# Feature Importance\n",
        "print(\"Feature Importances:\")\n",
        "feature_importances = pd.DataFrame({\n",
        "    'Feature': X.columns,\n",
        "    'Importance': rf_model.feature_importances_\n",
        "})\n",
        "feature_importances = feature_importances.sort_values(by='Importance', ascending=False)\n",
        "print(feature_importances)"
      ],
      "metadata": {
        "colab": {
          "base_uri": "https://localhost:8080/"
        },
        "id": "Q3L8e1igdO1V",
        "outputId": "8db17938-1f78-45f1-afb6-5e7597f9b332"
      },
      "execution_count": 9,
      "outputs": [
        {
          "output_type": "stream",
          "name": "stdout",
          "text": [
            "Model Accuracy: 0.99\n",
            "\n",
            "Classification Report:\n",
            "              precision    recall  f1-score   support\n",
            "\n",
            "           0       0.98      1.00      0.99       150\n",
            "           1       1.00      0.98      0.99       158\n",
            "\n",
            "    accuracy                           0.99       308\n",
            "   macro avg       0.99      0.99      0.99       308\n",
            "weighted avg       0.99      0.99      0.99       308\n",
            "\n",
            "\n",
            "==================================================\n",
            "\n",
            "Feature Importances:\n",
            "     Feature  Importance\n",
            "2         cp    0.140129\n",
            "7    thalach    0.131526\n",
            "11        ca    0.116020\n",
            "9    oldpeak    0.105527\n",
            "12      thal    0.099114\n",
            "0        age    0.098053\n",
            "4       chol    0.081334\n",
            "3   trestbps    0.067787\n",
            "8      exang    0.061730\n",
            "10     slope    0.037089\n",
            "1        sex    0.032196\n",
            "6    restecg    0.019197\n",
            "5        fbs    0.010297\n"
          ]
        }
      ]
    },
    {
      "cell_type": "code",
      "execution_count": 10,
      "metadata": {
        "colab": {
          "base_uri": "https://localhost:8080/"
        },
        "id": "ilERR4sm7EeV",
        "outputId": "f5b4f34e-28d1-4fa0-c29b-6059659d90ca"
      },
      "outputs": [
        {
          "output_type": "stream",
          "name": "stdout",
          "text": [
            "Classifying a New Sample with Random Forest:\n",
            "\n",
            "New Sample to classify:\n",
            "   age  sex  cp  trestbps  chol  fbs  restecg  thalach  exang  oldpeak  slope  \\\n",
            "0   57    1   0       130   236    0        2      174      0      0.0      1   \n",
            "\n",
            "   ca  thal  \n",
            "0   1     2  \n",
            "\n",
            "New Sample Scaled:\n",
            "        age       sex        cp  trestbps      chol       fbs   restecg  \\\n",
            "0  0.282961  0.661504 -0.915755 -0.092055 -0.193921 -0.418878  2.786558   \n",
            "\n",
            "    thalach     exang   oldpeak     slope        ca      thal  \n",
            "0  1.082252 -0.712287 -0.912329 -0.624121  0.238625 -0.522122  \n",
            "\n",
            "The new sample is predicted to be: 'No Heart Disease'\n",
            "\n",
            "Probabilities:\n",
            "  No Heart Disease (0): 0.7800\n",
            "  Heart Disease    (1): 0.2200\n",
            "\n",
            "==================================================\n",
            "\n"
          ]
        }
      ],
      "source": [
        "# 6. Classify a New Sample\n",
        "print(\"Classifying a New Sample with Random Forest:\")\n",
        "\n",
        "# Example sample (manually picked based on average values)\n",
        "new_sample = pd.DataFrame([[57, 1, 0, 130, 236, 0, 2, 174, 0, 0.0, 1, 1, 2]],\n",
        "                          columns=X.columns)\n",
        "\n",
        "print(f\"\\nNew Sample to classify:\\n{new_sample}\")\n",
        "\n",
        "# Scale the new sample\n",
        "new_sample_scaled = scaler.transform(new_sample)\n",
        "new_sample_scaled_df = pd.DataFrame(new_sample_scaled, columns=X.columns)\n",
        "\n",
        "print(f\"\\nNew Sample Scaled:\\n{new_sample_scaled_df}\")\n",
        "\n",
        "# Predict class and probability\n",
        "new_pred_label = rf_model.predict(new_sample_scaled)[0]\n",
        "new_pred_proba = rf_model.predict_proba(new_sample_scaled)[0]\n",
        "\n",
        "label_map = {0: \"No Heart Disease\", 1: \"Heart Disease\"}\n",
        "print(f\"\\nThe new sample is predicted to be: '{label_map[new_pred_label]}'\")\n",
        "print(\"\\nProbabilities:\")\n",
        "print(f\"  No Heart Disease (0): {new_pred_proba[0]:.4f}\")\n",
        "print(f\"  Heart Disease    (1): {new_pred_proba[1]:.4f}\")\n",
        "print(\"\\n\" + \"=\"*50 + \"\\n\")\n"
      ]
    }
  ]
}