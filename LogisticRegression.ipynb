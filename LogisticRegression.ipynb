{
  "nbformat": 4,
  "nbformat_minor": 0,
  "metadata": {
    "colab": {
      "provenance": []
    },
    "kernelspec": {
      "name": "python3",
      "display_name": "Python 3"
    },
    "language_info": {
      "name": "python"
    }
  },
  "cells": [
    {
      "cell_type": "code",
      "source": [
        "import pandas as pd\n",
        "from sklearn.model_selection import train_test_split\n",
        "from sklearn.linear_model import LogisticRegression\n",
        "from sklearn.metrics import accuracy_score, classification_report, roc_auc_score, roc_curve\n",
        "from sklearn.preprocessing import StandardScaler, OneHotEncoder\n",
        "from sklearn.compose import ColumnTransformer\n",
        "from sklearn.impute import SimpleImputer\n",
        "from sklearn.pipeline import Pipeline\n",
        "import matplotlib.pyplot as plt\n",
        "import numpy as np\n",
        "import seaborn as sns"
      ],
      "metadata": {
        "id": "w_O4xCu2V_4k"
      },
      "execution_count": 1,
      "outputs": []
    },
    {
      "cell_type": "code",
      "source": [
        "# Load the Titanic Dataset\n",
        "# Make sure 'titanic.csv' is in the same directory as your script,\n",
        "# or provide the full path to the file.\n",
        "df = pd.read_csv('titanic.csv')\n",
        "\n",
        "print(\"Titanic Dataset (first 5 rows):\")\n",
        "print(df.head())\n",
        "print(f\"\\nDataset Info:\")\n",
        "df.info()"
      ],
      "metadata": {
        "colab": {
          "base_uri": "https://localhost:8080/"
        },
        "id": "E779arnBV_0I",
        "outputId": "83066f98-f002-420b-c90d-16670178e44f"
      },
      "execution_count": 2,
      "outputs": [
        {
          "output_type": "stream",
          "name": "stdout",
          "text": [
            "Titanic Dataset (first 5 rows):\n",
            "   PassengerId  Survived  Pclass  \\\n",
            "0            1         0       3   \n",
            "1            2         1       1   \n",
            "2            3         1       3   \n",
            "3            4         1       1   \n",
            "4            5         0       3   \n",
            "\n",
            "                                                Name     Sex   Age  SibSp  \\\n",
            "0                            Braund, Mr. Owen Harris    male  22.0      1   \n",
            "1  Cumings, Mrs. John Bradley (Florence Briggs Th...  female  38.0      1   \n",
            "2                             Heikkinen, Miss. Laina  female  26.0      0   \n",
            "3       Futrelle, Mrs. Jacques Heath (Lily May Peel)  female  35.0      1   \n",
            "4                           Allen, Mr. William Henry    male  35.0      0   \n",
            "\n",
            "   Parch            Ticket     Fare Cabin Embarked  \n",
            "0      0         A/5 21171   7.2500   NaN        S  \n",
            "1      0          PC 17599  71.2833   C85        C  \n",
            "2      0  STON/O2. 3101282   7.9250   NaN        S  \n",
            "3      0            113803  53.1000  C123        S  \n",
            "4      0            373450   8.0500   NaN        S  \n",
            "\n",
            "Dataset Info:\n",
            "<class 'pandas.core.frame.DataFrame'>\n",
            "RangeIndex: 891 entries, 0 to 890\n",
            "Data columns (total 12 columns):\n",
            " #   Column       Non-Null Count  Dtype  \n",
            "---  ------       --------------  -----  \n",
            " 0   PassengerId  891 non-null    int64  \n",
            " 1   Survived     891 non-null    int64  \n",
            " 2   Pclass       891 non-null    int64  \n",
            " 3   Name         891 non-null    object \n",
            " 4   Sex          891 non-null    object \n",
            " 5   Age          714 non-null    float64\n",
            " 6   SibSp        891 non-null    int64  \n",
            " 7   Parch        891 non-null    int64  \n",
            " 8   Ticket       891 non-null    object \n",
            " 9   Fare         891 non-null    float64\n",
            " 10  Cabin        204 non-null    object \n",
            " 11  Embarked     889 non-null    object \n",
            "dtypes: float64(2), int64(5), object(5)\n",
            "memory usage: 83.7+ KB\n"
          ]
        }
      ]
    },
    {
      "cell_type": "code",
      "source": [
        "# 1. Prepare the Data\n",
        "# Define target and features\n",
        "# Our target variable will be 'Survived'\n",
        "# Features will include 'Pclass', 'Sex', 'Age', 'SibSp', 'Parch', 'Fare', 'Embarked'\n",
        "X = df.drop('Survived', axis=1)\n",
        "y = df['Survived']\n",
        "\n",
        "# Identify numerical and categorical features\n",
        "numerical_features = ['Age', 'SibSp', 'Parch', 'Fare']\n",
        "categorical_features = ['Pclass', 'Sex', 'Embarked'] # 'Pclass' is treated as categorical here\n",
        "# 'Name', 'Ticket', 'Cabin', 'PassengerId' are typically dropped or require more advanced feature engineering\n",
        "\n",
        "# Create preprocessing pipelines for numerical and categorical features\n",
        "# Numerical pipeline: Impute missing 'Age' values with the mean, then scale\n",
        "numerical_transformer = Pipeline(steps=[\n",
        "    ('imputer', SimpleImputer(strategy='mean')),\n",
        "    ('scaler', StandardScaler())\n",
        "])\n",
        "\n",
        "# Categorical pipeline: Impute missing 'Embarked' values with the most frequent, then one-hot encode\n",
        "categorical_transformer = Pipeline(steps=[\n",
        "    ('imputer', SimpleImputer(strategy='most_frequent')),\n",
        "    ('onehot', OneHotEncoder(handle_unknown='ignore'))\n",
        "])\n",
        "\n",
        "# Create a preprocessor using ColumnTransformer\n",
        "preprocessor = ColumnTransformer(\n",
        "    transformers=[\n",
        "        ('num', numerical_transformer, numerical_features),\n",
        "        ('cat', categorical_transformer, categorical_features)\n",
        "    ],\n",
        "    remainder='drop' # Drops columns not specified in transformers\n",
        ")\n",
        "\n",
        "# Apply preprocessing to the entire dataset (this step is part of the pipeline below, but shown for clarity)\n",
        "X_processed = preprocessor.fit_transform(X)\n",
        "print(\"Processed Data (first 5 rows - numerical and one-hot encoded categorical):\")\n",
        "print(pd.DataFrame(X_processed).head()) # This might be sparse if many categories\n"
      ],
      "metadata": {
        "colab": {
          "base_uri": "https://localhost:8080/"
        },
        "id": "v83v6q8-V_yL",
        "outputId": "6234be97-b90a-4304-b0b3-bf0e46f61577"
      },
      "execution_count": 4,
      "outputs": [
        {
          "output_type": "stream",
          "name": "stdout",
          "text": [
            "Processed Data (first 5 rows - numerical and one-hot encoded categorical):\n",
            "         0         1         2         3    4    5    6    7    8    9    10  \\\n",
            "0 -0.592481  0.432793 -0.473674 -0.502445  0.0  0.0  1.0  0.0  1.0  0.0  0.0   \n",
            "1  0.638789  0.432793 -0.473674  0.786845  1.0  0.0  0.0  1.0  0.0  1.0  0.0   \n",
            "2 -0.284663 -0.474545 -0.473674 -0.488854  0.0  0.0  1.0  1.0  0.0  0.0  0.0   \n",
            "3  0.407926  0.432793 -0.473674  0.420730  1.0  0.0  0.0  1.0  0.0  0.0  0.0   \n",
            "4  0.407926 -0.474545 -0.473674 -0.486337  0.0  0.0  1.0  0.0  1.0  0.0  0.0   \n",
            "\n",
            "    11  \n",
            "0  1.0  \n",
            "1  0.0  \n",
            "2  1.0  \n",
            "3  1.0  \n",
            "4  1.0  \n"
          ]
        }
      ]
    },
    {
      "cell_type": "code",
      "source": [
        "# 2. Split the Data\n",
        "X_train, X_test, y_train, y_test = train_test_split(\n",
        "    X, y, test_size=0.2, random_state=42, stratify=y\n",
        ")\n",
        "\n",
        "print(f\"Training data shape: {X_train.shape}, {y_train.shape}\")\n",
        "print(f\"Testing data shape: {X_test.shape}, {y_test.shape}\")"
      ],
      "metadata": {
        "colab": {
          "base_uri": "https://localhost:8080/"
        },
        "id": "TXltAuxAV_vP",
        "outputId": "b8710198-1d10-4c4a-80b3-7e058650bae1"
      },
      "execution_count": 5,
      "outputs": [
        {
          "output_type": "stream",
          "name": "stdout",
          "text": [
            "Training data shape: (712, 11), (712,)\n",
            "Testing data shape: (179, 11), (179,)\n"
          ]
        }
      ]
    },
    {
      "cell_type": "code",
      "source": [
        "# 3. Create and Train the Logistic Regression Model Pipeline\n",
        "# The pipeline will first preprocess the data, then train the Logistic Regression model\n",
        "log_reg_pipeline = Pipeline(steps=[\n",
        "    ('preprocessor', preprocessor),\n",
        "    ('classifier', LogisticRegression(random_state=42, solver='liblinear', max_iter=200))\n",
        "])\n",
        "\n",
        "log_reg_pipeline.fit(X_train, y_train)\n",
        "\n",
        "print(\"Logistic Regression Model Trained Successfully!\")"
      ],
      "metadata": {
        "colab": {
          "base_uri": "https://localhost:8080/"
        },
        "id": "vAE4Zay5V_rG",
        "outputId": "220dd6df-7490-43ee-bf47-f8f8ce835139"
      },
      "execution_count": 6,
      "outputs": [
        {
          "output_type": "stream",
          "name": "stdout",
          "text": [
            "Logistic Regression Model Trained Successfully!\n"
          ]
        }
      ]
    },
    {
      "cell_type": "code",
      "source": [
        "# 4. Make Predictions\n",
        "y_pred = log_reg_pipeline.predict(X_test)\n",
        "y_pred_proba = log_reg_pipeline.predict_proba(X_test)[:, 1] # Probability of 'Survived' class (1)\n",
        "\n",
        "print(\"Predictions on Test Set (first 10):\")\n",
        "predictions_df = pd.DataFrame({\n",
        "    'Actual_Survived': y_test.reset_index(drop=True),\n",
        "    'Predicted_Survived': y_pred\n",
        "})\n",
        "print(predictions_df.head(10))"
      ],
      "metadata": {
        "colab": {
          "base_uri": "https://localhost:8080/"
        },
        "id": "EeOYZoqrV_pE",
        "outputId": "9ec0516b-0aef-426f-b3ff-174d0c32a640"
      },
      "execution_count": 7,
      "outputs": [
        {
          "output_type": "stream",
          "name": "stdout",
          "text": [
            "Predictions on Test Set (first 10):\n",
            "   Actual_Survived  Predicted_Survived\n",
            "0                0                   0\n",
            "1                0                   0\n",
            "2                1                   0\n",
            "3                0                   0\n",
            "4                1                   1\n",
            "5                1                   0\n",
            "6                1                   1\n",
            "7                0                   0\n",
            "8                0                   0\n",
            "9                0                   0\n"
          ]
        }
      ]
    },
    {
      "cell_type": "code",
      "source": [
        "# 5. Evaluate the Model\n",
        "accuracy = accuracy_score(y_test, y_pred)\n",
        "report = classification_report(y_test, y_pred)\n",
        "roc_auc = roc_auc_score(y_test, y_pred_proba)\n",
        "\n",
        "print(f\"Model Accuracy: {accuracy:.2f}\")\n",
        "print(\"\\nClassification Report:\")\n",
        "print(report)\n",
        "print(f\"\\nROC AUC Score: {roc_auc:.2f}\")\n",
        "\n",
        "# Plot ROC Curve\n",
        "fpr, tpr, thresholds = roc_curve(y_test, y_pred_proba)\n",
        "plt.figure(figsize=(8, 6))\n",
        "plt.plot(fpr, tpr, label=f'Logistic Regression (AUC = {roc_auc:.2f})')\n",
        "plt.plot([0, 1], [0, 1], 'k--', label='Random Guess')\n",
        "plt.xlabel('False Positive Rate')\n",
        "plt.ylabel('True Positive Rate')\n",
        "plt.title('ROC Curve for Titanic Survival Prediction')\n",
        "plt.legend()\n",
        "plt.grid(True)\n",
        "plt.show()"
      ],
      "metadata": {
        "colab": {
          "base_uri": "https://localhost:8080/",
          "height": 807
        },
        "id": "SOA8LElcV_mJ",
        "outputId": "240a4137-e3f9-4ec0-d1f2-0fe0c5803a9f"
      },
      "execution_count": 8,
      "outputs": [
        {
          "output_type": "stream",
          "name": "stdout",
          "text": [
            "Model Accuracy: 0.80\n",
            "\n",
            "Classification Report:\n",
            "              precision    recall  f1-score   support\n",
            "\n",
            "           0       0.81      0.89      0.85       110\n",
            "           1       0.79      0.67      0.72        69\n",
            "\n",
            "    accuracy                           0.80       179\n",
            "   macro avg       0.80      0.78      0.79       179\n",
            "weighted avg       0.80      0.80      0.80       179\n",
            "\n",
            "\n",
            "ROC AUC Score: 0.84\n"
          ]
        },
        {
          "output_type": "display_data",
          "data": {
            "text/plain": [
              "<Figure size 800x600 with 1 Axes>"
            ],
            "image/png": "[encoded data removed]"
          },
          "metadata": {}
        }
      ]
    },
    {
      "cell_type": "code",
      "source": [
        "# 6. Classify a New Sample\n",
        "print(\"Classifying a New Sample with Logistic Regression:\")\n",
        "\n",
        "# Example new sample: A male, 30 years old, 3rd class, 1 sibling/spouse, 0 parent/children, paid 15.0 for fare, embarked from S\n",
        "new_sample_data = {\n",
        "    'PassengerId': [999], # Dummy ID\n",
        "    'Pclass': [3],\n",
        "    'Name': ['New Sample'], # Dummy name\n",
        "    'Sex': ['male'],\n",
        "    'Age': [30.0],\n",
        "    'SibSp': [1],\n",
        "    'Parch': [0],\n",
        "    'Ticket': ['SAMPLE123'], # Dummy ticket\n",
        "    'Fare': [15.0],\n",
        "    'Cabin': [np.nan], # Missing cabin\n",
        "    'Embarked': ['S']\n",
        "}\n",
        "new_sample_df = pd.DataFrame(new_sample_data)\n",
        "\n",
        "print(f\"\\nNew Sample to classify:\\n{new_sample_df[['Pclass', 'Sex', 'Age', 'SibSp', 'Parch', 'Fare', 'Embarked']]}\")\n",
        "\n",
        "# Predict the class and probabilities for the new sample using the trained pipeline\n",
        "new_sample_prediction = log_reg_pipeline.predict(new_sample_df)[0]\n",
        "new_sample_prediction_proba = log_reg_pipeline.predict_proba(new_sample_df)[0]\n",
        "\n",
        "survival_status = \"Survived\" if new_sample_prediction == 1 else \"Did Not Survive\"\n",
        "\n",
        "print(f\"\\nThe new sample is predicted to: '{survival_status}'\")\n",
        "print(\"\\nProbabilities:\")\n",
        "print(f\"  Did Not Survive (0): {new_sample_prediction_proba[0]:.4f}\")\n",
        "print(f\"  Survived (1): {new_sample_prediction_proba[1]:.4f}\")\n"
      ],
      "metadata": {
        "colab": {
          "base_uri": "https://localhost:8080/"
        },
        "id": "4jqc7qojjiwn",
        "outputId": "90549142-7307-4e94-a1e0-a530d3f131b5"
      },
      "execution_count": 10,
      "outputs": [
        {
          "output_type": "stream",
          "name": "stdout",
          "text": [
            "Classifying a New Sample with Logistic Regression:\n",
            "\n",
            "New Sample to classify:\n",
            "   Pclass   Sex   Age  SibSp  Parch  Fare Embarked\n",
            "0       3  male  30.0      1      0  15.0        S\n",
            "\n",
            "The new sample is predicted to: 'Did Not Survive'\n",
            "\n",
            "Probabilities:\n",
            "  Did Not Survive (0): 0.9318\n",
            "  Survived (1): 0.0682\n"
          ]
        }
      ]
    }
  ]
}